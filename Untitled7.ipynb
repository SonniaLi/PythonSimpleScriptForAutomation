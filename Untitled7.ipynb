{
 "cells": [
  {
   "cell_type": "code",
   "execution_count": 2,
   "metadata": {},
   "outputs": [
    {
     "name": "stdout",
     "output_type": "stream",
     "text": [
      "  Client_ID  LoanCount\n",
      "0      1025          1\n",
      "1      1412          1\n",
      "2      1052          2\n",
      "3      1028          8\n",
      "4      1292         25\n",
      "5      1733         28\n",
      "6      1606         48\n",
      "7         1        364\n",
      "8      1311       1130\n",
      "9      1053       9958 \n",
      "\n",
      "   Client_ID  LoanCount\n",
      "0       1025          1\n",
      "1       1412          4\n",
      "2       1052          2\n",
      "3       1028          8\n",
      "4       1292         25\n",
      "5       1733         28\n",
      "6       1606         60\n",
      "7          1        298\n",
      "8       1311       1130\n",
      "9       1053       9958\n",
      "10      1067        100\n",
      "11      1099       1288\n",
      "12      1055         10 \n",
      "\n",
      "   Client_ID  LoanCount_x  LoanCount_y  diff\n",
      "0       1025          1.0            1   0.0\n",
      "1       1412          1.0            4  -3.0\n",
      "2       1052          2.0            2   0.0\n",
      "3       1028          8.0            8   0.0\n",
      "4       1292         25.0           25   0.0\n",
      "5       1733         28.0           28   0.0\n",
      "6       1606         48.0           60 -12.0\n",
      "7          1        364.0          298  66.0\n",
      "8       1311       1130.0         1130   0.0\n",
      "9       1053       9958.0         9958   0.0\n",
      "10      1067          NaN          100   NaN\n",
      "11      1099          NaN         1288   NaN\n",
      "12      1055          NaN           10   NaN \n",
      "\n",
      "A list of Client IDs that have different loan counts: ['1412', '1606', '1']\n",
      "A list of Client IDs that do not exist in both lists: ['1067', '1099', '1055']\n"
     ]
    }
   ],
   "source": [
    "# This script can solve the problem that data analysts often encounter: compare the accounts of two or more datasets, and find the difference or null values. \n",
    "\n",
    "import numpy as np\n",
    "import pandas as pd\n",
    "\n",
    "dataset1 = {'Client_ID':['1025', '1412', '1052', '1028', '1292', '1733', '1606', '1', '1311', '1053'], 'LoanCount':[1, 1, 2, 8, 25, 28, 48, 364, 1130, 9958]}\n",
    "df1 = pd.DataFrame(dataset1)\n",
    "print(df1, '\\n')\n",
    "\n",
    "dataset2 = {'Client_ID':['1025', '1412', '1052', '1028', '1292', '1733', '1606', '1', '1311', '1053', '1067', '1099', '1055'], 'LoanCount':[1, 4, 2, 8, 25, 28, 60, 298, 1130, 9958, 100, 1288, 10]}\n",
    "df2 = pd.DataFrame(dataset2)\n",
    "print(df2, '\\n')\n",
    "\n",
    "sortby = 'LoanCount' # column name\n",
    "joinon = 'Client_ID' # column name\n",
    "diff_list = []\n",
    "nan_list = [] \n",
    "\n",
    "df = pd.merge(df1,df2, how='outer', on=[joinon])\n",
    "#print('outerjoined dataset', '\\n', df, '\\n') #uncomment this line to view the outer joined data\n",
    "\n",
    "df['diff'] = df['LoanCount_x'] - df['LoanCount_y']\n",
    "print(df, '\\n')\n",
    "\n",
    "def analyzediff():\n",
    "    for i in range(len(df['diff'])):\n",
    "        if df['diff'][i] < 0 or df['diff'][i] > 0:\n",
    "            diff_list.append(df['Client_ID'][i])\n",
    "        if np.isnan(df['diff'][i]) == True:\n",
    "            nan_list.append(df['Client_ID'][i])\n",
    "    print('A list of Client IDs that have different loan counts:', diff_list)\n",
    "    print('A list of Client IDs that do not exist in both lists:', nan_list)\n",
    "\n",
    "analyzediff()\n",
    "    "
   ]
  },
  {
   "cell_type": "code",
   "execution_count": 10,
   "metadata": {},
   "outputs": [],
   "source": [
    "from turtle import *\n",
    "forward(100)\n",
    "left(90)"
   ]
  },
  {
   "cell_type": "code",
   "execution_count": null,
   "metadata": {},
   "outputs": [],
   "source": []
  }
 ],
 "metadata": {
  "kernelspec": {
   "display_name": "Python 3",
   "language": "python",
   "name": "python3"
  },
  "language_info": {
   "codemirror_mode": {
    "name": "ipython",
    "version": 3
   },
   "file_extension": ".py",
   "mimetype": "text/x-python",
   "name": "python",
   "nbconvert_exporter": "python",
   "pygments_lexer": "ipython3",
   "version": "3.6.4"
  }
 },
 "nbformat": 4,
 "nbformat_minor": 2
}
