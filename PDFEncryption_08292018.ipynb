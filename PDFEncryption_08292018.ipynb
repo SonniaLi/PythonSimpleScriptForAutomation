{
 "cells": [
  {
   "cell_type": "code",
   "execution_count": 1,
   "metadata": {
    "collapsed": true
   },
   "outputs": [],
   "source": [
    "quit()"
   ]
  },
  {
   "cell_type": "code",
   "execution_count": 1,
   "metadata": {},
   "outputs": [
    {
     "name": "stdout",
     "output_type": "stream",
     "text": [
      "all pdf reports have been successfully encrypted.\n"
     ]
    }
   ],
   "source": [
    "import os\n",
    "import pandas as pd\n",
    "path = 'C:\\\\Users\\\\sli\\\\Desktop\\\\mytestpdf'\n",
    "os.chdir(path)\n",
    "file_name = []\n",
    "\n",
    "for file in os.listdir(path):\n",
    "    if file.endswith(\".pdf\"):\n",
    "        file_name.append(file.split('.')[0])\n",
    "file_name_int = []\n",
    "for i in range(len(file_name)):\n",
    "    file_name_int.append(int(file_name[i]))\n",
    "##print(file_name_int)\n",
    "\n",
    "password = pd.read_excel('password.xlsx')\n",
    "password\n",
    "nopassword = []\n",
    "\n",
    "   \n",
    "for i in file_name_int:\n",
    "    if i not in list(password['ClientID']):\n",
    "        ##print(password.loc[password['ClientID'] == i, 'Password'].iloc[0])\n",
    "    ##else:\n",
    "        nopassword.append(i)\n",
    "        ##print('this is a list of client id that has no password:',nopassword)\n",
    "\n",
    "\n",
    "import PyPDF2\n",
    "    ##cd \"C:\\\\Users\\\\sli\\\\desktop\\\\mytestpdf\"\n",
    "\n",
    "\n",
    "if len(nopassword) == 0:\n",
    "    for i in range(len(file_name_int)):\n",
    "        file_name = str(file_name_int[i]) +'.pdf'\n",
    "        pdfFile = open(file_name, 'rb')\n",
    "        pdfReader = PyPDF2.PdfFileReader(pdfFile)\n",
    "        pdfWriter = PyPDF2.PdfFileWriter()\n",
    "        for pageNum in range(pdfReader.numPages):\n",
    "            pdfWriter.addPage(pdfReader.getPage(pageNum))\n",
    "        pdfWriter.encrypt(password.loc[password['ClientID'] == file_name_int[i], 'Password'].iloc[0])\n",
    "        resultPdf = open(password.loc[password['ClientID'] == file_name_int[i], 'ClientName'].iloc[0]+'.pdf', 'wb')\n",
    "        pdfWriter.write(resultPdf)\n",
    "        resultPdf.close()\n",
    "    print('all pdf reports have been successfully encrypted.')\n",
    "else:\n",
    "    print('please create a password for the following client id in the excel file and re-run this script.', nopassword)\n",
    "\n",
    "quit()\n"
   ]
  },
  {
   "cell_type": "code",
   "execution_count": null,
   "metadata": {},
   "outputs": [],
   "source": []
  },
  {
   "cell_type": "code",
   "execution_count": null,
   "metadata": {
    "collapsed": true
   },
   "outputs": [],
   "source": []
  },
  {
   "cell_type": "code",
   "execution_count": null,
   "metadata": {},
   "outputs": [],
   "source": []
  },
  {
   "cell_type": "code",
   "execution_count": null,
   "metadata": {},
   "outputs": [],
   "source": []
  },
  {
   "cell_type": "code",
   "execution_count": null,
   "metadata": {},
   "outputs": [],
   "source": []
  },
  {
   "cell_type": "code",
   "execution_count": null,
   "metadata": {},
   "outputs": [],
   "source": []
  },
  {
   "cell_type": "code",
   "execution_count": null,
   "metadata": {
    "collapsed": true
   },
   "outputs": [],
   "source": []
  }
 ],
 "metadata": {
  "kernelspec": {
   "display_name": "Python 3",
   "language": "python",
   "name": "python3"
  },
  "language_info": {
   "codemirror_mode": {
    "name": "ipython",
    "version": 3
   },
   "file_extension": ".py",
   "mimetype": "text/x-python",
   "name": "python",
   "nbconvert_exporter": "python",
   "pygments_lexer": "ipython3",
   "version": "3.6.1"
  }
 },
 "nbformat": 4,
 "nbformat_minor": 2
}
