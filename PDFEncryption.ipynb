{
 "cells": [
  {
   "cell_type": "code",
   "execution_count": 40,
   "metadata": {
    "collapsed": true
   },
   "outputs": [],
   "source": [
    "quit()"
   ]
  },
  {
   "cell_type": "code",
   "execution_count": 79,
   "metadata": {},
   "outputs": [
    {
     "name": "stdout",
     "output_type": "stream",
     "text": [
      "[WinError 2] The system cannot find the file specified: 'desktop'\n",
      "C:\\Users\\sli\\desktop\\mytestpdf\n"
     ]
    }
   ],
   "source": [
    "cd desktop"
   ]
  },
  {
   "cell_type": "code",
   "execution_count": 82,
   "metadata": {},
   "outputs": [
    {
     "ename": "FileNotFoundError",
     "evalue": "[Errno 2] No such file or directory: 'Cornerstone_VelocioMortgageLLC.pdf'",
     "output_type": "error",
     "traceback": [
      "\u001b[1;31m---------------------------------------------------------------------------\u001b[0m",
      "\u001b[1;31mFileNotFoundError\u001b[0m                         Traceback (most recent call last)",
      "\u001b[1;32m<ipython-input-82-8d25d6c2e8ec>\u001b[0m in \u001b[0;36m<module>\u001b[1;34m()\u001b[0m\n\u001b[0;32m      1\u001b[0m \u001b[1;32mimport\u001b[0m \u001b[0mPyPDF2\u001b[0m\u001b[1;33m\u001b[0m\u001b[0m\n\u001b[1;32m----> 2\u001b[1;33m \u001b[0mpdfFile\u001b[0m \u001b[1;33m=\u001b[0m \u001b[0mopen\u001b[0m\u001b[1;33m(\u001b[0m\u001b[1;34m'Cornerstone_VelocioMortgageLLC.pdf'\u001b[0m\u001b[1;33m,\u001b[0m \u001b[1;34m'rb'\u001b[0m\u001b[1;33m)\u001b[0m\u001b[1;33m\u001b[0m\u001b[0m\n\u001b[0m\u001b[0;32m      3\u001b[0m \u001b[0mpdfReader\u001b[0m \u001b[1;33m=\u001b[0m \u001b[0mPyPDF2\u001b[0m\u001b[1;33m.\u001b[0m\u001b[0mPdfFileReader\u001b[0m\u001b[1;33m(\u001b[0m\u001b[0mpdfFile\u001b[0m\u001b[1;33m)\u001b[0m\u001b[1;33m\u001b[0m\u001b[0m\n\u001b[0;32m      4\u001b[0m \u001b[0mpdfWriter\u001b[0m \u001b[1;33m=\u001b[0m \u001b[0mPyPDF2\u001b[0m\u001b[1;33m.\u001b[0m\u001b[0mPdfFileWriter\u001b[0m\u001b[1;33m(\u001b[0m\u001b[1;33m)\u001b[0m\u001b[1;33m\u001b[0m\u001b[0m\n\u001b[0;32m      5\u001b[0m \u001b[1;32mfor\u001b[0m \u001b[0mpageNum\u001b[0m \u001b[1;32min\u001b[0m \u001b[0mrange\u001b[0m\u001b[1;33m(\u001b[0m\u001b[0mpdfReader\u001b[0m\u001b[1;33m.\u001b[0m\u001b[0mnumPages\u001b[0m\u001b[1;33m)\u001b[0m\u001b[1;33m:\u001b[0m\u001b[1;33m\u001b[0m\u001b[0m\n",
      "\u001b[1;31mFileNotFoundError\u001b[0m: [Errno 2] No such file or directory: 'Cornerstone_VelocioMortgageLLC.pdf'"
     ]
    }
   ],
   "source": [
    "import PyPDF2\n",
    "pdfFile = open('Cornerstone_VelocioMortgageLLC.pdf', 'rb')\n",
    "pdfReader = PyPDF2.PdfFileReader(pdfFile)\n",
    "pdfWriter = PyPDF2.PdfFileWriter()\n",
    "for pageNum in range(pdfReader.numPages):\n",
    "    pdfWriter.addPage(pdfReader.getPage(pageNum))\n",
    "pdfWriter.encrypt('swordfish')\n",
    "resultPdf = open('Cornerstone_VelocioMortgageLLCpw.pdf', 'wb')\n",
    "pdfWriter.write(resultPdf)\n",
    "resultPdf.close()"
   ]
  },
  {
   "cell_type": "code",
   "execution_count": 83,
   "metadata": {},
   "outputs": [
    {
     "name": "stdout",
     "output_type": "stream",
     "text": [
      "1001.pdf\n",
      "1002.pdf\n",
      "1003.pdf\n",
      "['1001', '1002', '1003']\n",
      "[1001, 1002, 1003]\n"
     ]
    }
   ],
   "source": [
    "import os\n",
    "file_name = []\n",
    "for file in os.listdir(\"C:\\\\Users\\\\sli\\\\desktop\\\\mytestpdf\"):\n",
    "    if file.endswith(\".pdf\"):\n",
    "        file_name.append(file.split('.')[0])\n",
    "        print(os.path.join( file))\n",
    "print(file_name)\n",
    "\n",
    "file_name_int = []\n",
    "for i in range(len(file_name)):\n",
    "    file_name_int.append(int(file_name[i]))\n",
    "print(file_name_int)\n",
    "\n"
   ]
  },
  {
   "cell_type": "code",
   "execution_count": 84,
   "metadata": {},
   "outputs": [],
   "source": [
    "import pandas as pd"
   ]
  },
  {
   "cell_type": "code",
   "execution_count": 81,
   "metadata": {},
   "outputs": [
    {
     "name": "stdout",
     "output_type": "stream",
     "text": [
      "C:\\Users\\sli\\desktop\\mytestpdf\n"
     ]
    }
   ],
   "source": [
    "cd \"C:\\\\Users\\\\sli\\\\desktop\\\\mytestpdf\""
   ]
  },
  {
   "cell_type": "code",
   "execution_count": 85,
   "metadata": {},
   "outputs": [
    {
     "name": "stdout",
     "output_type": "stream",
     "text": [
      "password1\n",
      "password2\n",
      "password3\n"
     ]
    }
   ],
   "source": [
    "password = pd.read_excel('password.xlsx')\n",
    "password\n",
    "for i in file_name_int:\n",
    "    print(password.loc[password['ClientID'] == i, 'Password'].iloc[0])"
   ]
  },
  {
   "cell_type": "code",
   "execution_count": 86,
   "metadata": {},
   "outputs": [],
   "source": [
    "file_name = str(file_name_int[1]) +'.pdf'\n",
    "file_name\n",
    "pdfFile = open(file_name, 'rb')"
   ]
  },
  {
   "cell_type": "code",
   "execution_count": 93,
   "metadata": {},
   "outputs": [],
   "source": [
    "import PyPDF2\n",
    "##cd \"C:\\\\Users\\\\sli\\\\desktop\\\\mytestpdf\"\n",
    "\n",
    "for i in range(len(file_name_int)):\n",
    "    file_name = str(file_name_int[i]) +'.pdf'\n",
    "    pdfFile = open(file_name, 'rb')\n",
    "    pdfReader = PyPDF2.PdfFileReader(pdfFile)\n",
    "    pdfWriter = PyPDF2.PdfFileWriter()\n",
    "    for pageNum in range(pdfReader.numPages):\n",
    "        pdfWriter.addPage(pdfReader.getPage(pageNum))\n",
    "    pdfWriter.encrypt(password.loc[password['ClientID'] == file_name_int[i], 'Password'].iloc[0])\n",
    "    \n",
    "    resultPdf = open(password.loc[password['ClientID'] == file_name_int[i], 'ClientName'].iloc[0]+'.pdf', 'wb')\n",
    "    pdfWriter.write(resultPdf)\n",
    "    resultPdf.close()\n",
    "    \n",
    "  "
   ]
  },
  {
   "cell_type": "code",
   "execution_count": 92,
   "metadata": {},
   "outputs": [
    {
     "name": "stdout",
     "output_type": "stream",
     "text": [
      "0\n",
      "ABC\n",
      "1\n",
      "BBB\n",
      "2\n",
      "AAA\n"
     ]
    }
   ],
   "source": [
    "for i in range(len(file_name_int)):\n",
    "    print(i)\n",
    "    print(password.loc[password['ClientID'] == file_name_int[i], 'ClientName'].iloc[0])\n",
    "    ##print(password.loc[password['ClientID'] == i, 'Password'].iloc[0])"
   ]
  },
  {
   "cell_type": "code",
   "execution_count": null,
   "metadata": {},
   "outputs": [],
   "source": []
  },
  {
   "cell_type": "code",
   "execution_count": 39,
   "metadata": {},
   "outputs": [],
   "source": []
  },
  {
   "cell_type": "code",
   "execution_count": null,
   "metadata": {
    "collapsed": true
   },
   "outputs": [],
   "source": []
  }
 ],
 "metadata": {
  "kernelspec": {
   "display_name": "Python 3",
   "language": "python",
   "name": "python3"
  },
  "language_info": {
   "codemirror_mode": {
    "name": "ipython",
    "version": 3
   },
   "file_extension": ".py",
   "mimetype": "text/x-python",
   "name": "python",
   "nbconvert_exporter": "python",
   "pygments_lexer": "ipython3",
   "version": "3.6.1"
  }
 },
 "nbformat": 4,
 "nbformat_minor": 2
}
